{
 "cells": [
  {
   "cell_type": "code",
   "execution_count": 4,
   "metadata": {},
   "outputs": [
    {
     "data": {
      "text/html": [
       "<!DOCTYPE html>\n",
       "<html lang=\"en\">\n",
       "<head>\n",
       "    <meta charset=\"UTF-8\">\n",
       "    <meta name=\"viewport\" content=\"width=device-width, initial-scale=1.0\">\n",
       "    <link rel=\"stylesheet\" href=\"/static/css/styles.css\" >\n",
       "    <title>Home</title>\n",
       "</head>\n",
       "<body>\n",
       "    <header>\n",
       "        <nav>\n",
       "            <a href=\"/\">Home</a> |\n",
       "            <a href=\"/about\">About</a>\n",
       "        </nav>\n",
       "    </header>\n",
       "    <main>\n",
       "        \n",
       "  <h1>Welcome to Flask</h1>\n",
       "  <p> This is the home page</p>\n",
       "\n",
       "    </main>\n",
       "</body>\n",
       "</html>"
      ],
      "text/plain": [
       "<IPython.core.display.HTML object>"
      ]
     },
     "metadata": {},
     "output_type": "display_data"
    }
   ],
   "source": [
    "from IPython.display import HTML\n",
    "import requests\n",
    "\n",
    "url = \"http://127.0.0.1:5000/\"\n",
    "\n",
    "response = requests.get(url=url)\n",
    "\n",
    "status_code = response.status_code\n",
    "\n",
    "if status_code == 200:\n",
    "    display(HTML(response.text))\n",
    "    \n",
    "\n"
   ]
  },
  {
   "cell_type": "code",
   "execution_count": 3,
   "metadata": {},
   "outputs": [
    {
     "data": {
      "text/html": [
       "<!DOCTYPE html>\n",
       "<html lang=\"en\">\n",
       "<head>\n",
       "    <meta charset=\"UTF-8\">\n",
       "    <meta name=\"viewport\" content=\"width=device-width, initial-scale=1.0\">\n",
       "    <link rel=\"stylesheet\" href=\"/static/css/styles.css\" >\n",
       "    <title>About</title>\n",
       "</head>\n",
       "<body>\n",
       "    <header>\n",
       "        <nav>\n",
       "            <a href=\"/\">Home</a> |\n",
       "            <a href=\"/about\">About</a>\n",
       "        </nav>\n",
       "    </header>\n",
       "    <main>\n",
       "        \n",
       "  <h1>About Page</h1>\n",
       "  <p> This is the about page</p>\n",
       "\n",
       "    </main>\n",
       "</body>\n",
       "</html>"
      ],
      "text/plain": [
       "<IPython.core.display.HTML object>"
      ]
     },
     "metadata": {},
     "output_type": "display_data"
    }
   ],
   "source": [
    "from IPython.display import HTML\n",
    "import requests\n",
    "\n",
    "url = \"http://127.0.0.1:5000/about\"\n",
    "\n",
    "response = requests.get(url=url)\n",
    "\n",
    "status_code = response.status_code\n",
    "\n",
    "if status_code == 200:\n",
    "    display(HTML(response.text))\n",
    "    "
   ]
  }
 ],
 "metadata": {
  "kernelspec": {
   "display_name": ".venv",
   "language": "python",
   "name": "python3"
  },
  "language_info": {
   "codemirror_mode": {
    "name": "ipython",
    "version": 3
   },
   "file_extension": ".py",
   "mimetype": "text/x-python",
   "name": "python",
   "nbconvert_exporter": "python",
   "pygments_lexer": "ipython3",
   "version": "3.11.2"
  }
 },
 "nbformat": 4,
 "nbformat_minor": 2
}
